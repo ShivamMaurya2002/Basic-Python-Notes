{
 "cells": [
  {
   "cell_type": "markdown",
   "id": "bb15401b",
   "metadata": {},
   "source": [
    "# 🐍 Python Basics Notebook\n",
    "This notebook contains fundamental concepts of Python programming with examples and explanations."
   ]
  },
  {
   "cell_type": "markdown",
   "id": "c8d60193",
   "metadata": {},
   "source": [
    "## 1. Variables and Data Types in Python\n",
    "Variables are containers for storing data values. Python has various data types like int, float, string, boolean, etc."
   ]
  },
  {
   "cell_type": "code",
   "execution_count": null,
   "id": "f62bfe24",
   "metadata": {},
   "outputs": [],
   "source": [
    "name = \"Shivam\"\n",
    "age = 21\n",
    "height = 5.9\n",
    "is_student = True\n",
    "\n",
    "print(name, age, height, is_student)"
   ]
  },
  {
   "cell_type": "markdown",
   "id": "92c7bca5",
   "metadata": {},
   "source": [
    "## 2. Type Casting\n",
    "You can convert values from one data type to another."
   ]
  },
  {
   "cell_type": "code",
   "execution_count": null,
   "id": "805b5c2f",
   "metadata": {},
   "outputs": [],
   "source": [
    "x = 5\n",
    "y = float(x)\n",
    "name = str(x)\n",
    "print(x, y, name)"
   ]
  },
  {
   "cell_type": "markdown",
   "id": "4f288f83",
   "metadata": {},
   "source": [
    "## 3. Input from User"
   ]
  },
  {
   "cell_type": "code",
   "execution_count": null,
   "id": "acf67901",
   "metadata": {},
   "outputs": [],
   "source": [
    "user_name = input(\"Enter your name: \")\n",
    "print(\"Welcome,\", user_name)"
   ]
  },
  {
   "cell_type": "markdown",
   "id": "018ff0ce",
   "metadata": {},
   "source": [
    "## 4. Conditional Statements\n",
    "Used to execute code based on conditions."
   ]
  },
  {
   "cell_type": "code",
   "execution_count": null,
   "id": "75675993",
   "metadata": {},
   "outputs": [],
   "source": [
    "marks = 85\n",
    "if marks >= 90:\n",
    "    print(\"Grade A\")\n",
    "elif marks >= 75:\n",
    "    print(\"Grade B\")\n",
    "else:\n",
    "    print(\"Grade C\")"
   ]
  },
  {
   "cell_type": "markdown",
   "id": "c92be02a",
   "metadata": {},
   "source": [
    "## 5. Loops\n",
    "Used for iteration."
   ]
  },
  {
   "cell_type": "code",
   "execution_count": null,
   "id": "ca96278d",
   "metadata": {},
   "outputs": [],
   "source": [
    "# For loop\n",
    "for i in range(1, 6):\n",
    "    print(i)"
   ]
  },
  {
   "cell_type": "code",
   "execution_count": null,
   "id": "35996e7d",
   "metadata": {},
   "outputs": [],
   "source": [
    "# While loop\n",
    "count = 0\n",
    "while count < 3:\n",
    "    print(\"Counting:\", count)\n",
    "    count += 1"
   ]
  },
  {
   "cell_type": "markdown",
   "id": "74e01974",
   "metadata": {},
   "source": [
    "## 6. Functions\n",
    "Functions are reusable blocks of code."
   ]
  },
  {
   "cell_type": "code",
   "execution_count": null,
   "id": "73782cf0",
   "metadata": {},
   "outputs": [],
   "source": [
    "def add(a, b):\n",
    "    return a + b\n",
    "\n",
    "add(10, 5)"
   ]
  },
  {
   "cell_type": "markdown",
   "id": "78d3ebfc",
   "metadata": {},
   "source": [
    "## 7. Lists, Tuples, and Sets"
   ]
  },
  {
   "cell_type": "code",
   "execution_count": null,
   "id": "a2adcccf",
   "metadata": {},
   "outputs": [],
   "source": [
    "# List\n",
    "fruits = [\"apple\", \"banana\", \"cherry\"]\n",
    "print(fruits[1])"
   ]
  },
  {
   "cell_type": "code",
   "execution_count": null,
   "id": "943383aa",
   "metadata": {},
   "outputs": [],
   "source": [
    "# Tuple\n",
    "colors = (\"red\", \"green\", \"blue\")\n",
    "print(colors[0])"
   ]
  },
  {
   "cell_type": "code",
   "execution_count": null,
   "id": "7e31f1c1",
   "metadata": {},
   "outputs": [],
   "source": [
    "# Set\n",
    "nums = {1, 2, 3, 2}\n",
    "print(nums)"
   ]
  },
  {
   "cell_type": "markdown",
   "id": "7fa80a3c",
   "metadata": {},
   "source": [
    "## 8. Dictionaries\n",
    "Key-value pairs to store data."
   ]
  },
  {
   "cell_type": "code",
   "execution_count": null,
   "id": "0d0c658f",
   "metadata": {},
   "outputs": [],
   "source": [
    "student = {\"name\": \"Shivam\", \"age\": 21, \"grade\": \"A\"}\n",
    "print(student[\"grade\"])"
   ]
  },
  {
   "cell_type": "markdown",
   "id": "db65197c",
   "metadata": {},
   "source": [
    "## 9. Loops with Lists and Dictionaries"
   ]
  },
  {
   "cell_type": "code",
   "execution_count": null,
   "id": "6b660129",
   "metadata": {},
   "outputs": [],
   "source": [
    "# Loop through list\n",
    "for fruit in fruits:\n",
    "    print(fruit)"
   ]
  },
  {
   "cell_type": "code",
   "execution_count": null,
   "id": "792cc111",
   "metadata": {},
   "outputs": [],
   "source": [
    "# Loop through dictionary\n",
    "for key, value in student.items():\n",
    "    print(key, \"=\", value)"
   ]
  },
  {
   "cell_type": "markdown",
   "id": "e32bb396",
   "metadata": {},
   "source": [
    "## 10. String Methods"
   ]
  },
  {
   "cell_type": "code",
   "execution_count": null,
   "id": "215cde95",
   "metadata": {},
   "outputs": [],
   "source": [
    "message = \" Hello Python! \"\n",
    "print(message.strip())\n",
    "print(message.lower())\n",
    "print(message.upper())\n",
    "print(message.replace(\"Python\", \"World\"))"
   ]
  },
  {
   "cell_type": "markdown",
   "id": "a1f0191f",
   "metadata": {},
   "source": [
    "## 11. File Handling"
   ]
  },
  {
   "cell_type": "code",
   "execution_count": null,
   "id": "24cfb30e",
   "metadata": {},
   "outputs": [],
   "source": [
    "with open(\"sample.txt\", \"w\") as f:\n",
    "    f.write(\"This is a test file.\")\n",
    "\n",
    "with open(\"sample.txt\", \"r\") as f:\n",
    "    content = f.read()\n",
    "    print(content)"
   ]
  },
  {
   "cell_type": "markdown",
   "id": "c8853f74",
   "metadata": {},
   "source": [
    "## 12. Exception Handling"
   ]
  },
  {
   "cell_type": "code",
   "execution_count": null,
   "id": "c7fde07c",
   "metadata": {},
   "outputs": [],
   "source": [
    "try:\n",
    "    result = 10 / 0\n",
    "except ZeroDivisionError:\n",
    "    print(\"You can't divide by zero!\")\n",
    "finally:\n",
    "    print(\"This block always runs.\")"
   ]
  },
  {
   "cell_type": "markdown",
   "id": "045a2989",
   "metadata": {},
   "source": [
    "##  Summary\n",
    "We’ve now seen the basics of Python including variables, data types, conditions, loops, functions, collections, and more. Practice more to become confident!"
   ]
  }
 ],
 "metadata": {
  "kernelspec": {
   "display_name": "Python 3 (ipykernel)",
   "language": "python",
   "name": "python3"
  },
  "language_info": {
   "codemirror_mode": {
    "name": "ipython",
    "version": 3
   },
   "file_extension": ".py",
   "mimetype": "text/x-python",
   "name": "python",
   "nbconvert_exporter": "python",
   "pygments_lexer": "ipython3",
   "version": "3.11.7"
  }
 },
 "nbformat": 4,
 "nbformat_minor": 5
}
