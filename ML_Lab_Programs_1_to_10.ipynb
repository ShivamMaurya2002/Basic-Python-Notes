{
 "cells": [
  {
   "cell_type": "markdown",
   "id": "c3965354",
   "metadata": {},
   "source": [
    "# Machine Learning Lab Programs (1 to 10)\n",
    "This notebook contains 10 basic Machine Learning lab programs with clear explanations and well-structured code using Python and libraries like `scikit-learn`, `pandas`, `numpy`, etc."
   ]
  },
  {
   "cell_type": "markdown",
   "id": "cf7cf0af",
   "metadata": {},
   "source": [
    "## Program 1: Display Versions of NumPy, Pandas, and Python\n",
    "This program helps verify the installed versions of essential Python libraries used in data science."
   ]
  },
  {
   "cell_type": "code",
   "execution_count": 1,
   "id": "3b40ba45",
   "metadata": {
    "execution": {
     "iopub.execute_input": "2025-07-27T07:52:59.741816Z",
     "iopub.status.busy": "2025-07-27T07:52:59.741202Z",
     "iopub.status.idle": "2025-07-27T07:53:00.573188Z",
     "shell.execute_reply": "2025-07-27T07:53:00.571724Z"
    }
   },
   "outputs": [
    {
     "name": "stdout",
     "output_type": "stream",
     "text": [
      "NumPy Version: 1.24.0\n",
      "Pandas Version: 1.5.3\n",
      "Python Version: 3.11.8 (main, Mar 12 2024, 11:41:52) [GCC 12.2.0]\n"
     ]
    }
   ],
   "source": [
    "import numpy as np\n",
    "import pandas as pd\n",
    "import sys\n",
    "\n",
    "print(\"NumPy Version:\", np.__version__)\n",
    "print(\"Pandas Version:\", pd.__version__)\n",
    "print(\"Python Version:\", sys.version)"
   ]
  },
  {
   "cell_type": "markdown",
   "id": "0b92f6e4",
   "metadata": {},
   "source": [
    "## Program 2: Display Versions of Scikit-learn, Scipy, and Matplotlib\n",
    "Knowing the version of ML libraries ensures compatibility and reproducibility."
   ]
  },
  {
   "cell_type": "code",
   "execution_count": 2,
   "id": "fbe026ac",
   "metadata": {
    "execution": {
     "iopub.execute_input": "2025-07-27T07:53:00.579287Z",
     "iopub.status.busy": "2025-07-27T07:53:00.578543Z",
     "iopub.status.idle": "2025-07-27T07:53:03.109131Z",
     "shell.execute_reply": "2025-07-27T07:53:03.107943Z"
    }
   },
   "outputs": [
    {
     "name": "stdout",
     "output_type": "stream",
     "text": [
      "Scikit-learn Version: 1.1.3\n",
      "SciPy Version: 1.9.3\n",
      "Matplotlib Version: 3.6.3\n"
     ]
    }
   ],
   "source": [
    "import sklearn\n",
    "import scipy\n",
    "import matplotlib\n",
    "\n",
    "print(\"Scikit-learn Version:\", sklearn.__version__)\n",
    "print(\"SciPy Version:\", scipy.__version__)\n",
    "print(\"Matplotlib Version:\", matplotlib.__version__)"
   ]
  },
  {
   "cell_type": "markdown",
   "id": "626adf92",
   "metadata": {},
   "source": [
    "## Program 3: Display Versions of Seaborn and Other Common Libraries"
   ]
  },
  {
   "cell_type": "code",
   "execution_count": 3,
   "id": "2a01d5a1",
   "metadata": {
    "execution": {
     "iopub.execute_input": "2025-07-27T07:53:03.115677Z",
     "iopub.status.busy": "2025-07-27T07:53:03.114802Z",
     "iopub.status.idle": "2025-07-27T07:53:04.136581Z",
     "shell.execute_reply": "2025-07-27T07:53:04.135321Z"
    }
   },
   "outputs": [
    {
     "name": "stdout",
     "output_type": "stream",
     "text": [
      "Seaborn Version: 0.11.2\n"
     ]
    }
   ],
   "source": [
    "import seaborn as sns\n",
    "print(\"Seaborn Version:\", sns.__version__)"
   ]
  },
  {
   "cell_type": "markdown",
   "id": "6f321e39",
   "metadata": {},
   "source": [
    "## Program 4: Load and Display Iris Dataset\n",
    "This program loads the famous Iris dataset and displays its contents."
   ]
  },
  {
   "cell_type": "code",
   "execution_count": 4,
   "id": "aea4d23c",
   "metadata": {
    "execution": {
     "iopub.execute_input": "2025-07-27T07:53:04.142518Z",
     "iopub.status.busy": "2025-07-27T07:53:04.141973Z",
     "iopub.status.idle": "2025-07-27T07:53:04.240657Z",
     "shell.execute_reply": "2025-07-27T07:53:04.239524Z"
    }
   },
   "outputs": [
    {
     "name": "stdout",
     "output_type": "stream",
     "text": [
      "   sepal length (cm)  sepal width (cm)  petal length (cm)  petal width (cm)  \\\n",
      "0                5.1               3.5                1.4               0.2   \n",
      "1                4.9               3.0                1.4               0.2   \n",
      "2                4.7               3.2                1.3               0.2   \n",
      "3                4.6               3.1                1.5               0.2   \n",
      "4                5.0               3.6                1.4               0.2   \n",
      "\n",
      "   target  \n",
      "0       0  \n",
      "1       0  \n",
      "2       0  \n",
      "3       0  \n",
      "4       0  \n"
     ]
    }
   ],
   "source": [
    "from sklearn.datasets import load_iris\n",
    "import pandas as pd\n",
    "\n",
    "iris = load_iris()\n",
    "df = pd.DataFrame(data=iris.data, columns=iris.feature_names)\n",
    "df['target'] = iris.target\n",
    "print(df.head())"
   ]
  },
  {
   "cell_type": "markdown",
   "id": "1da6126f",
   "metadata": {},
   "source": [
    "## Program 5: Data Preprocessing (Handling Missing Values and Feature Scaling)\n",
    "This includes imputing missing values and scaling features."
   ]
  },
  {
   "cell_type": "code",
   "execution_count": 5,
   "id": "518bdcc3",
   "metadata": {
    "execution": {
     "iopub.execute_input": "2025-07-27T07:53:04.245471Z",
     "iopub.status.busy": "2025-07-27T07:53:04.245050Z",
     "iopub.status.idle": "2025-07-27T07:53:04.400717Z",
     "shell.execute_reply": "2025-07-27T07:53:04.399582Z"
    }
   },
   "outputs": [
    {
     "name": "stdout",
     "output_type": "stream",
     "text": [
      "   sepal length (cm)  sepal width (cm)  petal length (cm)  petal width (cm)  \\\n",
      "0          -1.033147          1.019004          -1.340227         -1.315444   \n",
      "1           0.000000         -0.131979          -1.340227         -1.315444   \n",
      "2           0.000000          0.328414          -1.397064         -1.315444   \n",
      "3           0.000000          0.098217          -1.283389         -1.315444   \n",
      "4           0.000000          1.249201          -1.340227         -1.315444   \n",
      "\n",
      "   target  \n",
      "0       0  \n",
      "1       0  \n",
      "2       0  \n",
      "3       0  \n",
      "4       0  \n"
     ]
    }
   ],
   "source": [
    "from sklearn.impute import SimpleImputer\n",
    "from sklearn.preprocessing import StandardScaler\n",
    "import numpy as np\n",
    "\n",
    "# Simulate missing values\n",
    "df.iloc[1:10, 0] = np.nan\n",
    "\n",
    "# Imputation\n",
    "imputer = SimpleImputer(strategy='mean')\n",
    "df.iloc[:, :-1] = imputer.fit_transform(df.iloc[:, :-1])\n",
    "\n",
    "# Scaling\n",
    "scaler = StandardScaler()\n",
    "df.iloc[:, :-1] = scaler.fit_transform(df.iloc[:, :-1])\n",
    "\n",
    "print(df.head())"
   ]
  },
  {
   "cell_type": "markdown",
   "id": "033bdb49",
   "metadata": {},
   "source": [
    "## Program 6: Apply Linear Regression\n",
    "Linear Regression is used for predicting continuous values."
   ]
  },
  {
   "cell_type": "code",
   "execution_count": 6,
   "id": "e1933744",
   "metadata": {
    "execution": {
     "iopub.execute_input": "2025-07-27T07:53:04.405779Z",
     "iopub.status.busy": "2025-07-27T07:53:04.405259Z",
     "iopub.status.idle": "2025-07-27T07:53:04.422871Z",
     "shell.execute_reply": "2025-07-27T07:53:04.421773Z"
    }
   },
   "outputs": [
    {
     "name": "stdout",
     "output_type": "stream",
     "text": [
      "Mean Squared Error: 0.03777175849656069\n"
     ]
    }
   ],
   "source": [
    "from sklearn.linear_model import LinearRegression\n",
    "from sklearn.model_selection import train_test_split\n",
    "from sklearn.metrics import mean_squared_error\n",
    "\n",
    "X = df.iloc[:, :-1]\n",
    "y = df.iloc[:, -1]\n",
    "\n",
    "X_train, X_test, y_train, y_test = train_test_split(X, y, test_size=0.2, random_state=42)\n",
    "model = LinearRegression()\n",
    "model.fit(X_train, y_train)\n",
    "\n",
    "predictions = model.predict(X_test)\n",
    "print(\"Mean Squared Error:\", mean_squared_error(y_test, predictions))"
   ]
  },
  {
   "cell_type": "markdown",
   "id": "d9621227",
   "metadata": {},
   "source": [
    "## Program 7: Apply Decision Tree Classifier\n",
    "A Decision Tree is a supervised ML model used for classification."
   ]
  },
  {
   "cell_type": "code",
   "execution_count": 7,
   "id": "903c3fad",
   "metadata": {
    "execution": {
     "iopub.execute_input": "2025-07-27T07:53:04.427816Z",
     "iopub.status.busy": "2025-07-27T07:53:04.427310Z",
     "iopub.status.idle": "2025-07-27T07:53:04.453772Z",
     "shell.execute_reply": "2025-07-27T07:53:04.452517Z"
    }
   },
   "outputs": [
    {
     "name": "stdout",
     "output_type": "stream",
     "text": [
      "Accuracy: 1.0\n"
     ]
    }
   ],
   "source": [
    "from sklearn.tree import DecisionTreeClassifier\n",
    "from sklearn.metrics import accuracy_score\n",
    "\n",
    "clf = DecisionTreeClassifier()\n",
    "clf.fit(X_train, y_train)\n",
    "y_pred = clf.predict(X_test)\n",
    "print(\"Accuracy:\", accuracy_score(y_test, y_pred))"
   ]
  },
  {
   "cell_type": "markdown",
   "id": "eda7a869",
   "metadata": {},
   "source": [
    "## Program 8: K-Nearest Neighbors (KNN) Classifier\n",
    "KNN is a simple classification algorithm based on proximity to training data."
   ]
  },
  {
   "cell_type": "code",
   "execution_count": 8,
   "id": "5d414616",
   "metadata": {
    "execution": {
     "iopub.execute_input": "2025-07-27T07:53:04.458691Z",
     "iopub.status.busy": "2025-07-27T07:53:04.458215Z",
     "iopub.status.idle": "2025-07-27T07:53:04.472461Z",
     "shell.execute_reply": "2025-07-27T07:53:04.471291Z"
    }
   },
   "outputs": [
    {
     "name": "stdout",
     "output_type": "stream",
     "text": [
      "KNN Accuracy: 1.0\n"
     ]
    }
   ],
   "source": [
    "from sklearn.neighbors import KNeighborsClassifier\n",
    "\n",
    "knn = KNeighborsClassifier(n_neighbors=3)\n",
    "knn.fit(X_train, y_train)\n",
    "knn_pred = knn.predict(X_test)\n",
    "print(\"KNN Accuracy:\", accuracy_score(y_test, knn_pred))"
   ]
  },
  {
   "cell_type": "markdown",
   "id": "d84f919a",
   "metadata": {},
   "source": [
    "## Program 9: Support Vector Machine (SVM) Classifier\n",
    "SVMs are powerful for classification of linearly and non-linearly separable data."
   ]
  },
  {
   "cell_type": "code",
   "execution_count": 9,
   "id": "a783cd8c",
   "metadata": {
    "execution": {
     "iopub.execute_input": "2025-07-27T07:53:04.477609Z",
     "iopub.status.busy": "2025-07-27T07:53:04.477126Z",
     "iopub.status.idle": "2025-07-27T07:53:04.487336Z",
     "shell.execute_reply": "2025-07-27T07:53:04.486247Z"
    }
   },
   "outputs": [
    {
     "name": "stdout",
     "output_type": "stream",
     "text": [
      "SVM Accuracy: 1.0\n"
     ]
    }
   ],
   "source": [
    "from sklearn.svm import SVC\n",
    "\n",
    "svm = SVC()\n",
    "svm.fit(X_train, y_train)\n",
    "svm_pred = svm.predict(X_test)\n",
    "print(\"SVM Accuracy:\", accuracy_score(y_test, svm_pred))"
   ]
  },
  {
   "cell_type": "markdown",
   "id": "4549e916",
   "metadata": {},
   "source": [
    "## Program 10: K-Means Clustering\n",
    "K-Means is an unsupervised algorithm for clustering similar data points."
   ]
  },
  {
   "cell_type": "code",
   "execution_count": 10,
   "id": "9b3ae4e2",
   "metadata": {
    "execution": {
     "iopub.execute_input": "2025-07-27T07:53:04.492293Z",
     "iopub.status.busy": "2025-07-27T07:53:04.491693Z",
     "iopub.status.idle": "2025-07-27T07:53:04.861224Z",
     "shell.execute_reply": "2025-07-27T07:53:04.859514Z"
    }
   },
   "outputs": [
    {
     "name": "stdout",
     "output_type": "stream",
     "text": [
      "Cluster Centers:\n",
      " [[-0.1550907  -0.89339955  0.34522179  0.28439302]\n",
      " [-0.90601297  0.85326268 -1.30498732 -1.25489349]\n",
      " [ 1.11177844  0.07903422  0.98537152  0.99908828]]\n",
      "Cluster Labels:\n",
      " [1 1 1 1 1 1 1 1 1 1]\n"
     ]
    }
   ],
   "source": [
    "from sklearn.cluster import KMeans\n",
    "\n",
    "kmeans = KMeans(n_clusters=3, random_state=42)\n",
    "kmeans.fit(X)\n",
    "print(\"Cluster Centers:\\n\", kmeans.cluster_centers_)\n",
    "print(\"Cluster Labels:\\n\", kmeans.labels_[:10])"
   ]
  }
 ],
 "metadata": {
  "language_info": {
   "codemirror_mode": {
    "name": "ipython",
    "version": 3
   },
   "file_extension": ".py",
   "mimetype": "text/x-python",
   "name": "python",
   "nbconvert_exporter": "python",
   "pygments_lexer": "ipython3",
   "version": "3.11.8"
  }
 },
 "nbformat": 4,
 "nbformat_minor": 5
}
